{
 "cells": [
  {
   "cell_type": "markdown",
   "metadata": {},
   "source": [
    "Given an array of integers sorted in ascending order, find the starting and ending position of a given target value.  \n",
    "Your algorithm's runtime complexity **must** be in the order of O(log n).  \n",
    "If the target is not found in the array, return [-1, -1].  \n",
    "\n",
    "```\n",
    "For example,\n",
    "Given [5, 7, 7, 8, 8, 10] and target value 8,\n",
    "return [3, 4].\n",
    "```"
   ]
  },
  {
   "cell_type": "code",
   "execution_count": 1,
   "metadata": {},
   "outputs": [
    {
     "data": {
      "text/plain": [
       "[1, 1]"
      ]
     },
     "execution_count": 1,
     "metadata": {},
     "output_type": "execute_result"
    }
   ],
   "source": [
    "class Solution(object):\n",
    "    def searchRange(self, nums, target):\n",
    "        \"\"\"\n",
    "        :type nums: List[int]\n",
    "        :type target: int\n",
    "        :rtype: List[int]\n",
    "        \"\"\"\n",
    "        def findFirst(nums, target):\n",
    "            lo, hi = 0, len(nums)\n",
    "            while lo < hi:\n",
    "                mid = (lo + hi) // 2\n",
    "                if nums[mid] >= target:\n",
    "                    hi = mid\n",
    "                else:\n",
    "                    lo = mid + 1\n",
    "            return hi\n",
    "\n",
    "        start = findFirst(nums,target)\n",
    "        if start==len(nums) or nums[start]!=target:\n",
    "            return[-1,-1]\n",
    "        else:\n",
    "            return [start,findFirst(nums,target+1)-1]\n",
    "\n",
    "solution = Solution()\n",
    "solution.searchRange([5, 6, 7, 7, 8, 8, 10], 6)"
   ]
  },
  {
   "cell_type": "code",
   "execution_count": 2,
   "metadata": {},
   "outputs": [
    {
     "data": {
      "text/plain": [
       "[2, 3]"
      ]
     },
     "execution_count": 2,
     "metadata": {},
     "output_type": "execute_result"
    }
   ],
   "source": [
    "#使用python list的内置index，count方法\n",
    "class Solution(object):\n",
    "    def searchRange(self, nums, target):\n",
    "        \"\"\"\n",
    "        :type nums: List[int]\n",
    "        :type target: int\n",
    "        :rtype: List[int]\n",
    "        \"\"\"\n",
    "        if target in nums:\n",
    "            index=nums.index(target)\n",
    "            count=nums.count(target)\n",
    "            return [index,index+count-1]\n",
    "        else:\n",
    "            return [-1,-1]\n",
    "        \n",
    "solution = Solution()\n",
    "solution.searchRange([5, 6, 7, 7, 8, 8, 10],7)"
   ]
  }
 ],
 "metadata": {
  "kernelspec": {
   "display_name": "Python 3",
   "language": "python",
   "name": "python3"
  },
  "language_info": {
   "codemirror_mode": {
    "name": "ipython",
    "version": 3
   },
   "file_extension": ".py",
   "mimetype": "text/x-python",
   "name": "python",
   "nbconvert_exporter": "python",
   "pygments_lexer": "ipython3",
   "version": "3.4.3"
  },
  "varInspector": {
   "cols": {
    "lenName": 16,
    "lenType": 16,
    "lenVar": 40
   },
   "kernels_config": {
    "python": {
     "delete_cmd_postfix": "",
     "delete_cmd_prefix": "del ",
     "library": "var_list.py",
     "varRefreshCmd": "print(var_dic_list())"
    },
    "r": {
     "delete_cmd_postfix": ") ",
     "delete_cmd_prefix": "rm(",
     "library": "var_list.r",
     "varRefreshCmd": "cat(var_dic_list()) "
    }
   },
   "types_to_exclude": [
    "module",
    "function",
    "builtin_function_or_method",
    "instance",
    "_Feature"
   ],
   "window_display": false
  }
 },
 "nbformat": 4,
 "nbformat_minor": 2
}
