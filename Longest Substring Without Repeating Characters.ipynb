{
 "cells": [
  {
   "cell_type": "markdown",
   "metadata": {},
   "source": [
    "Given a string, find the length of the longest substring without repeating characters.\n",
    "```\n",
    "Examples:\n",
    "Given \"abcabcbb\", the answer is \"abc\", which the length is 3.\n",
    "Given \"bbbbb\", the answer is \"b\", with the length of 1.\n",
    "Given \"pwwkew\", the answer is \"wke\", with the length of 3. Note that the answer must be a substring, \"pwke\" is a subsequence and not a substring.\n",
    "```"
   ]
  },
  {
   "cell_type": "code",
   "execution_count": 1,
   "metadata": {},
   "outputs": [
    {
     "data": {
      "text/plain": [
       "3"
      ]
     },
     "execution_count": 1,
     "metadata": {},
     "output_type": "execute_result"
    }
   ],
   "source": [
    "class Solution(object):\n",
    "    def lengthOfLongestSubstring(self, s):\n",
    "        \"\"\"\n",
    "        :type s: str\n",
    "        :rtype: int\n",
    "        \"\"\"\n",
    "        list=[]\n",
    "        maxLength=0\n",
    "        for char in s:\n",
    "            if char in list:\n",
    "                maxLength = maxLength if maxLength>len(list) else len(list)\n",
    "                list = list[list.index(char)+1:]\n",
    "            list.append(char)\n",
    "        return maxLength if maxLength>len(list) else len(list);\n",
    "\n",
    "#test\n",
    "solution = Solution()\n",
    "#solution.lengthOfLongestSubstring(\"abcabcbb\")\n",
    "#solution.lengthOfLongestSubstring(\"abcd\")\n",
    "#solution.lengthOfLongestSubstring(\"dvdf\")\n",
    "solution.lengthOfLongestSubstring(\"pwwkew\")"
   ]
  },
  {
   "cell_type": "markdown",
   "metadata": {},
   "source": [
    "考虑还是不全面，参考Test cases 思考总有遗漏  \n",
    "\n",
    "maxLength if maxLength>len(list) else len(list);  \n",
    "python 有max方法：max(maxLength, len(list))"
   ]
  }
 ],
 "metadata": {
  "kernelspec": {
   "display_name": "Python 3",
   "language": "python",
   "name": "python3"
  },
  "language_info": {
   "codemirror_mode": {
    "name": "ipython",
    "version": 3
   },
   "file_extension": ".py",
   "mimetype": "text/x-python",
   "name": "python",
   "nbconvert_exporter": "python",
   "pygments_lexer": "ipython3",
   "version": "3.4.3"
  },
  "varInspector": {
   "cols": {
    "lenName": 16,
    "lenType": 16,
    "lenVar": 40
   },
   "kernels_config": {
    "python": {
     "delete_cmd_postfix": "",
     "delete_cmd_prefix": "del ",
     "library": "var_list.py",
     "varRefreshCmd": "print(var_dic_list())"
    },
    "r": {
     "delete_cmd_postfix": ") ",
     "delete_cmd_prefix": "rm(",
     "library": "var_list.r",
     "varRefreshCmd": "cat(var_dic_list()) "
    }
   },
   "types_to_exclude": [
    "module",
    "function",
    "builtin_function_or_method",
    "instance",
    "_Feature"
   ],
   "window_display": false
  }
 },
 "nbformat": 4,
 "nbformat_minor": 2
}
