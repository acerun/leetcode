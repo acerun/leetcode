{
 "cells": [
  {
   "cell_type": "markdown",
   "metadata": {},
   "source": [
    "You are given two non-empty linked lists representing two non-negative integers. The digits are stored in reverse order and each of their nodes contain a single digit. Add the two numbers and return it as a linked list.\n",
    "\n",
    "You may assume the two numbers do not contain any leading zero, except the number 0 itself.\n",
    "\n",
    "```\n",
    "Input: (2 -> 4 -> 3) + (5 -> 6 -> 4)\n",
    "Output: 7 -> 0 -> 8\n",
    "```"
   ]
  },
  {
   "cell_type": "code",
   "execution_count": 1,
   "metadata": {},
   "outputs": [
    {
     "name": "stdout",
     "output_type": "stream",
     "text": [
      "1\n",
      "8\n"
     ]
    }
   ],
   "source": [
    "# Definition for singly-linked list.\n",
    "class ListNode(object):\n",
    "    def __init__(self, x):\n",
    "         self.val = x\n",
    "         self.next = None\n",
    "\n",
    "    def printList(self):\n",
    "        cursor = self\n",
    "        while cursor != None:\n",
    "            print(cursor.val)\n",
    "            cursor = cursor.next\n",
    "            \n",
    "    def input(inlist):\n",
    "        head = ListNode(0)\n",
    "        listNode = head\n",
    "        for num in inlist:\n",
    "            numNode = ListNode(num)\n",
    "            listNode.next = numNode\n",
    "            listNode = numNode\n",
    "        return head.next\n",
    "        \n",
    "\n",
    "class Solution(object):\n",
    "    def addTwoNumbers(self, l1, l2):\n",
    "        \"\"\"\n",
    "        :type l1: ListNode\n",
    "        :type l2: ListNode\n",
    "        :rtype: ListNode\n",
    "        \"\"\"\n",
    "        l1cur = l1\n",
    "        l2cur = l2\n",
    "        head = ListNode(0)\n",
    "        retCur = head\n",
    "        carry = 0\n",
    "        while l1cur != None or l2cur != None:\n",
    "            current = 0\n",
    "            if l2cur == None:\n",
    "                current = l1cur.val+carry\n",
    "                l1cur = l1cur.next\n",
    "            elif l1cur == None:\n",
    "                current = l2cur.val+carry\n",
    "                l2cur = l2cur.next\n",
    "            else:\n",
    "                current = l1cur.val+l2cur.val+carry\n",
    "                l1cur = l1cur.next\n",
    "                l2cur = l2cur.next\n",
    "            carry = int(current/10)\n",
    "            retCur.next = ListNode(current%10)\n",
    "            retCur = retCur.next\n",
    "\n",
    "        if carry != 0:\n",
    "            retCur.next = ListNode(carry)\n",
    "        return head.next\n",
    "    \n",
    "solution = Solution()\n",
    "solution.addTwoNumbers(ListNode.input([1,8]),ListNode.input([0])).printList()"
   ]
  }
 ],
 "metadata": {
  "kernelspec": {
   "display_name": "Python 3",
   "language": "python",
   "name": "python3"
  },
  "language_info": {
   "codemirror_mode": {
    "name": "ipython",
    "version": 3
   },
   "file_extension": ".py",
   "mimetype": "text/x-python",
   "name": "python",
   "nbconvert_exporter": "python",
   "pygments_lexer": "ipython3",
   "version": "3.4.3"
  },
  "varInspector": {
   "cols": {
    "lenName": 16,
    "lenType": 16,
    "lenVar": 40
   },
   "kernels_config": {
    "python": {
     "delete_cmd_postfix": "",
     "delete_cmd_prefix": "del ",
     "library": "var_list.py",
     "varRefreshCmd": "print(var_dic_list())"
    },
    "r": {
     "delete_cmd_postfix": ") ",
     "delete_cmd_prefix": "rm(",
     "library": "var_list.r",
     "varRefreshCmd": "cat(var_dic_list()) "
    }
   },
   "types_to_exclude": [
    "module",
    "function",
    "builtin_function_or_method",
    "instance",
    "_Feature"
   ],
   "window_display": false
  }
 },
 "nbformat": 4,
 "nbformat_minor": 2
}
