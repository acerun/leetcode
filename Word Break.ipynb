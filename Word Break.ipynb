{
 "cells": [
  {
   "cell_type": "markdown",
   "metadata": {},
   "source": [
    "Given a non-empty string s and a dictionary wordDict containing a list of non-empty words,  \n",
    "determine if s can be segmented into a space-separated sequence of one or more dictionary words.  \n",
    "You may assume the dictionary does not contain duplicate words.\n",
    "```\n",
    "For example, given\n",
    "s = \"leetcode\",\n",
    "dict = [\"leet\", \"code\"].\n",
    "\n",
    "Return true because \"leetcode\" can be segmented as \"leet code\".\n",
    "```"
   ]
  },
  {
   "cell_type": "code",
   "execution_count": 9,
   "metadata": {},
   "outputs": [
    {
     "data": {
      "text/plain": [
       "True"
      ]
     },
     "execution_count": 9,
     "metadata": {},
     "output_type": "execute_result"
    }
   ],
   "source": [
    "#DP\n",
    "class Solution(object):\n",
    "    def wordBreak(self, s, wordDict):\n",
    "        \"\"\"\n",
    "        :type s: str\n",
    "        :type wordDict: List[str]\n",
    "        :rtype: bool\n",
    "        \"\"\"\n",
    "        ret = [0] #s[:ret[i]]都是True\n",
    "        #set query 效率更高\n",
    "        wordSet = set(wordDict)\n",
    "        for i in range(len(s)):\n",
    "            for j in ret:\n",
    "                if s[j:i+1] in wordSet:\n",
    "                    ret.append(i+1)\n",
    "        return len(ret)>1 and ret[-1] == len(s)\n",
    "        \n",
    "s = Solution()\n",
    "\n",
    "ss = \"acaaaaabbbdbcccdcdaadcdccacbcccabbbbcdaaaaaadb\"\n",
    "dic = [\"abbcbda\",\"cbdaaa\",\"b\",\"dadaaad\",\"dccbbbc\",\"dccadd\",\"ccbdbc\",\"bbca\",\"bacbcdd\",\"a\",\"bacb\",\"cbc\",\"adc\",\"c\",\"cbdbcad\",\"cdbab\",\"db\",\"abbcdbd\",\"bcb\",\"bbdab\",\"aa\",\"bcadb\",\"bacbcb\",\"ca\",\"dbdabdb\",\"ccd\",\"acbb\",\"bdc\",\"acbccd\",\"d\",\"cccdcda\",\"dcbd\",\"cbccacd\",\"ac\",\"cca\",\"aaddc\",\"dccac\",\"ccdc\",\"bbbbcda\",\"ba\",\"adbcadb\",\"dca\",\"abd\",\"bdbb\",\"ddadbad\",\"badb\",\"ab\",\"aaaaa\",\"acba\",\"abbb\"]\n",
    "s.wordBreak(\"leetcode\",[\"leet\", \"code\"])\n",
    "s.wordBreak(ss,dic)"
   ]
  }
 ],
 "metadata": {
  "kernelspec": {
   "display_name": "Python 3",
   "language": "python",
   "name": "python3"
  },
  "language_info": {
   "codemirror_mode": {
    "name": "ipython",
    "version": 3
   },
   "file_extension": ".py",
   "mimetype": "text/x-python",
   "name": "python",
   "nbconvert_exporter": "python",
   "pygments_lexer": "ipython3",
   "version": "3.4.5"
  }
 },
 "nbformat": 4,
 "nbformat_minor": 2
}
