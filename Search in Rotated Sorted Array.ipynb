{
 "cells": [
  {
   "cell_type": "markdown",
   "metadata": {},
   "source": [
    "Suppose an array sorted in ascending order is rotated at some pivot unknown to you beforehand.  \n",
    "(i.e., `0 1 2 4 5 6 7` might become `4 5 6 7 0 1 2`).  \n",
    "\n",
    "You are given a target value to search. If found in the array return its index, otherwise return -1.  \n",
    "You may assume no duplicate exists in the array."
   ]
  },
  {
   "cell_type": "code",
   "execution_count": 1,
   "metadata": {},
   "outputs": [
    {
     "data": {
      "text/plain": [
       "3"
      ]
     },
     "execution_count": 1,
     "metadata": {},
     "output_type": "execute_result"
    }
   ],
   "source": [
    "class Solution(object):\n",
    "    def search(self, nums, target):\n",
    "        \"\"\"\n",
    "        :type nums: List[int]\n",
    "        :type target: int\n",
    "        :rtype: int\n",
    "        \"\"\"\n",
    "        if not len(nums): return -1\n",
    "        lo = 0\n",
    "        hi = len(nums)-1\n",
    "        while lo <= hi:\n",
    "            mid = (hi+lo)//2\n",
    "            if target == nums[mid]:\n",
    "                return mid\n",
    "            if nums[lo]<=nums[mid]:\n",
    "                if nums[lo]<=target<nums[mid]:\n",
    "                    hi = mid-1\n",
    "                else:\n",
    "                    lo = mid+1\n",
    "            if nums[mid]<=nums[hi]:\n",
    "                if nums[mid]<target<=nums[hi]:\n",
    "                    lo = mid+1\n",
    "                else:\n",
    "                    hi = mid-1\n",
    "        return -1\n",
    "\n",
    "solution = Solution()\n",
    "solution.search([4, 5, 6, 7, 0, 1, 2],7)"
   ]
  },
  {
   "cell_type": "markdown",
   "metadata": {},
   "source": [
    "二分法，注意临界条件"
   ]
  }
 ],
 "metadata": {
  "kernelspec": {
   "display_name": "Python 3",
   "language": "python",
   "name": "python3"
  },
  "language_info": {
   "codemirror_mode": {
    "name": "ipython",
    "version": 3
   },
   "file_extension": ".py",
   "mimetype": "text/x-python",
   "name": "python",
   "nbconvert_exporter": "python",
   "pygments_lexer": "ipython3",
   "version": "3.4.3"
  },
  "varInspector": {
   "cols": {
    "lenName": 16,
    "lenType": 16,
    "lenVar": 40
   },
   "kernels_config": {
    "python": {
     "delete_cmd_postfix": "",
     "delete_cmd_prefix": "del ",
     "library": "var_list.py",
     "varRefreshCmd": "print(var_dic_list())"
    },
    "r": {
     "delete_cmd_postfix": ") ",
     "delete_cmd_prefix": "rm(",
     "library": "var_list.r",
     "varRefreshCmd": "cat(var_dic_list()) "
    }
   },
   "types_to_exclude": [
    "module",
    "function",
    "builtin_function_or_method",
    "instance",
    "_Feature"
   ],
   "window_display": false
  }
 },
 "nbformat": 4,
 "nbformat_minor": 2
}
