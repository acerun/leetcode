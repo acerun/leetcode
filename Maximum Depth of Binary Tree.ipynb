{
 "cells": [
  {
   "cell_type": "markdown",
   "metadata": {},
   "source": [
    "Given a binary tree, find its maximum depth.\n",
    "\n",
    "The maximum depth is the number of nodes along the longest path from the root node down to the farthest leaf node."
   ]
  },
  {
   "cell_type": "code",
   "execution_count": 1,
   "metadata": {},
   "outputs": [
    {
     "data": {
      "text/plain": [
       "3"
      ]
     },
     "execution_count": 1,
     "metadata": {},
     "output_type": "execute_result"
    }
   ],
   "source": [
    "# Definition for a binary tree node.\n",
    "class TreeNode(object):\n",
    "    def __init__(self, x):\n",
    "        self.val = x\n",
    "        self.left = None\n",
    "        self.right = None\n",
    "\n",
    "    def inputList(l):\n",
    "        head=TreeNode(l[0])\n",
    "        s = [head]\n",
    "        b=l[1:]\n",
    "        for i, v in enumerate(b):\n",
    "            if i%2:\n",
    "                t = s.pop(0)\n",
    "                if v!=None:\n",
    "                    t.right = TreeNode(v)\n",
    "                    s.append(t.right)\n",
    "            else:\n",
    "                t=s[0]\n",
    "                if v!=None:\n",
    "                    t.left = TreeNode(v)\n",
    "                    s.append(t.left)\n",
    "        return head\n",
    "\n",
    "class Solution(object):\n",
    "    def maxDepth(self, root):\n",
    "        \"\"\"\n",
    "        :type root: TreeNode\n",
    "        :rtype: int\n",
    "        \"\"\"\n",
    "        if not root: return 0\n",
    "        depth = 0\n",
    "        level = [root]\n",
    "        while len(level):\n",
    "            tmp = []\n",
    "            for node in level:\n",
    "                tmp+=[node.left,node.right]\n",
    "            level = [node for node in tmp if node]\n",
    "            depth+=1\n",
    "        return depth\n",
    "    \n",
    "s = Solution()\n",
    "s.maxDepth(TreeNode.inputList([3,9,20,None,None,15,7]))"
   ]
  },
  {
   "cell_type": "code",
   "execution_count": 2,
   "metadata": {},
   "outputs": [
    {
     "data": {
      "text/plain": [
       "3"
      ]
     },
     "execution_count": 2,
     "metadata": {},
     "output_type": "execute_result"
    }
   ],
   "source": [
    "# Definition for a binary tree node.\n",
    "class TreeNode(object):\n",
    "    def __init__(self, x):\n",
    "        self.val = x\n",
    "        self.left = None\n",
    "        self.right = None\n",
    "\n",
    "    def inputList(l):\n",
    "        head=TreeNode(l[0])\n",
    "        s = [head]\n",
    "        b=l[1:]\n",
    "        for i, v in enumerate(b):\n",
    "            if i%2:\n",
    "                t = s.pop(0)\n",
    "                if v!=None:\n",
    "                    t.right = TreeNode(v)\n",
    "                    s.append(t.right)\n",
    "            else:\n",
    "                t=s[0]\n",
    "                if v!=None:\n",
    "                    t.left = TreeNode(v)\n",
    "                    s.append(t.left)\n",
    "        return head\n",
    "\n",
    "class Solution(object):\n",
    "    def maxDepth(self, root):\n",
    "        \"\"\"\n",
    "        :type root: TreeNode\n",
    "        :rtype: int\n",
    "        \"\"\"\n",
    "        return 1+max(self.maxDepth(root.left),self.maxDepth(root.right)) if root else 0\n",
    "    \n",
    "s = Solution()\n",
    "s.maxDepth(TreeNode.inputList([3,9,20,None,None,15,7]))"
   ]
  },
  {
   "cell_type": "code",
   "execution_count": null,
   "metadata": {
    "collapsed": true
   },
   "outputs": [],
   "source": []
  }
 ],
 "metadata": {
  "kernelspec": {
   "display_name": "Python 3",
   "language": "python",
   "name": "python3"
  },
  "language_info": {
   "codemirror_mode": {
    "name": "ipython",
    "version": 3
   },
   "file_extension": ".py",
   "mimetype": "text/x-python",
   "name": "python",
   "nbconvert_exporter": "python",
   "pygments_lexer": "ipython3",
   "version": "3.4.3"
  },
  "varInspector": {
   "cols": {
    "lenName": 16,
    "lenType": 16,
    "lenVar": 40
   },
   "kernels_config": {
    "python": {
     "delete_cmd_postfix": "",
     "delete_cmd_prefix": "del ",
     "library": "var_list.py",
     "varRefreshCmd": "print(var_dic_list())"
    },
    "r": {
     "delete_cmd_postfix": ") ",
     "delete_cmd_prefix": "rm(",
     "library": "var_list.r",
     "varRefreshCmd": "cat(var_dic_list()) "
    }
   },
   "types_to_exclude": [
    "module",
    "function",
    "builtin_function_or_method",
    "instance",
    "_Feature"
   ],
   "window_display": false
  }
 },
 "nbformat": 4,
 "nbformat_minor": 2
}
