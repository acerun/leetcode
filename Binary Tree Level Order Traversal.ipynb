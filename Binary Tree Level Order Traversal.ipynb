{
 "cells": [
  {
   "cell_type": "markdown",
   "metadata": {},
   "source": [
    "Given a binary tree, return the level order traversal of its nodes' values. (ie, from left to right, level by level).\n",
    "```\n",
    "For example:\n",
    "Given binary tree [3,9,20,null,null,15,7],\n",
    "    3\n",
    "   / \\\n",
    "  9  20\n",
    "    /  \\\n",
    "   15   7\n",
    "return its level order traversal as:\n",
    "[\n",
    "  [3],\n",
    "  [9,20],\n",
    "  [15,7]\n",
    "]\n",
    "```"
   ]
  },
  {
   "cell_type": "code",
   "execution_count": 1,
   "metadata": {},
   "outputs": [
    {
     "data": {
      "text/plain": [
       "[[3], [9, 20], [15, 7]]"
      ]
     },
     "execution_count": 1,
     "metadata": {},
     "output_type": "execute_result"
    }
   ],
   "source": [
    "# Definition for a binary tree node.\n",
    "class TreeNode(object):\n",
    "    def __init__(self, x):\n",
    "        self.val = x\n",
    "        self.left = None\n",
    "        self.right = None\n",
    "\n",
    "    def inputList(l):\n",
    "        head=TreeNode(l[0])\n",
    "        s = [head]\n",
    "        b=l[1:]\n",
    "        for i, v in enumerate(b):\n",
    "            if i%2:\n",
    "                t = s.pop(0)\n",
    "                if v!=None:\n",
    "                    t.right = TreeNode(v)\n",
    "                    s.append(t.right)\n",
    "            else:\n",
    "                t=s[0]\n",
    "                if v!=None:\n",
    "                    t.left = TreeNode(v)\n",
    "                    s.append(t.left)\n",
    "        return head\n",
    "\n",
    "class Solution(object):\n",
    "    def levelOrder(self, root):\n",
    "        \"\"\"\n",
    "        :type root: TreeNode\n",
    "        :rtype: List[List[int]]\n",
    "        \"\"\"\n",
    "        stack1 = [root]\n",
    "        stack2 = []\n",
    "        ret = []\n",
    "        while len(stack1) or (stack2):\n",
    "            ret1 = []\n",
    "            while len(stack1):\n",
    "                t = stack1.pop(0)\n",
    "                ret1.append(t.val)\n",
    "                if t.left:stack2.append(t.left)\n",
    "                if t.right:stack2.append(t.right)\n",
    "            if len(ret1): ret.append(ret1)\n",
    "            ret1 = []\n",
    "            while len(stack2):\n",
    "                t = stack2.pop(0)\n",
    "                ret1.append(t.val)\n",
    "                if t.left:stack1.append(t.left)\n",
    "                if t.right:stack1.append(t.right)\n",
    "            if len(ret1): ret.append(ret1)\n",
    "        return ret\n",
    "            \n",
    "    \n",
    "s = Solution()\n",
    "s.levelOrder(TreeNode.inputList([3,9,20,None,None,15,7]))"
   ]
  },
  {
   "cell_type": "code",
   "execution_count": 2,
   "metadata": {},
   "outputs": [
    {
     "data": {
      "text/plain": [
       "[[3], [9, 20], [15, 7]]"
      ]
     },
     "execution_count": 2,
     "metadata": {},
     "output_type": "execute_result"
    }
   ],
   "source": [
    "# Definition for a binary tree node.\n",
    "class TreeNode(object):\n",
    "    def __init__(self, x):\n",
    "        self.val = x\n",
    "        self.left = None\n",
    "        self.right = None\n",
    "\n",
    "    def inputList(l):\n",
    "        head=TreeNode(l[0])\n",
    "        s = [head]\n",
    "        b=l[1:]\n",
    "        for i, v in enumerate(b):\n",
    "            if i%2:\n",
    "                t = s.pop(0)\n",
    "                if v!=None:\n",
    "                    t.right = TreeNode(v)\n",
    "                    s.append(t.right)\n",
    "            else:\n",
    "                t=s[0]\n",
    "                if v!=None:\n",
    "                    t.left = TreeNode(v)\n",
    "                    s.append(t.left)\n",
    "        return head\n",
    "\n",
    "class Solution(object):\n",
    "    def levelOrder(self, root):\n",
    "        \"\"\"\n",
    "        :type root: TreeNode\n",
    "        :rtype: List[List[int]]\n",
    "        \"\"\"\n",
    "        if not root: return []\n",
    "        ret, level = [],[root]\n",
    "        while len(level):\n",
    "            ret.append([node.val for node in level])\n",
    "            tmp = []\n",
    "            for node in level:\n",
    "                tmp+=[node.left, node.right]\n",
    "            level = [node for node in tmp if node] #filter the Node not None\n",
    "        return ret\n",
    "            \n",
    "    \n",
    "s = Solution()\n",
    "s.levelOrder(TreeNode.inputList([3,9,20,None,None,15,7]))"
   ]
  }
 ],
 "metadata": {
  "kernelspec": {
   "display_name": "Python 3",
   "language": "python",
   "name": "python3"
  },
  "language_info": {
   "codemirror_mode": {
    "name": "ipython",
    "version": 3
   },
   "file_extension": ".py",
   "mimetype": "text/x-python",
   "name": "python",
   "nbconvert_exporter": "python",
   "pygments_lexer": "ipython3",
   "version": "3.4.3"
  },
  "varInspector": {
   "cols": {
    "lenName": 16,
    "lenType": 16,
    "lenVar": 40
   },
   "kernels_config": {
    "python": {
     "delete_cmd_postfix": "",
     "delete_cmd_prefix": "del ",
     "library": "var_list.py",
     "varRefreshCmd": "print(var_dic_list())"
    },
    "r": {
     "delete_cmd_postfix": ") ",
     "delete_cmd_prefix": "rm(",
     "library": "var_list.r",
     "varRefreshCmd": "cat(var_dic_list()) "
    }
   },
   "types_to_exclude": [
    "module",
    "function",
    "builtin_function_or_method",
    "instance",
    "_Feature"
   ],
   "window_display": false
  }
 },
 "nbformat": 4,
 "nbformat_minor": 2
}
