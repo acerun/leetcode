{
 "cells": [
  {
   "cell_type": "markdown",
   "metadata": {},
   "source": [
    "Merge two sorted linked lists and return it as a new list.   \n",
    "The new list should be made by splicing together the nodes of the first two lists.  \n",
    "归并排序"
   ]
  },
  {
   "cell_type": "code",
   "execution_count": 13,
   "metadata": {},
   "outputs": [
    {
     "name": "stdout",
     "output_type": "stream",
     "text": [
      "0\n",
      "1\n",
      "4\n",
      "8\n",
      "9\n"
     ]
    }
   ],
   "source": [
    "# Definition for singly-linked list.\n",
    "class ListNode(object):\n",
    "    def __init__(self, x):\n",
    "         self.val = x\n",
    "         self.next = None\n",
    "\n",
    "    def printList(self):\n",
    "        cursor = self\n",
    "        while cursor != None:\n",
    "            print(cursor.val)\n",
    "            cursor = cursor.next\n",
    "            \n",
    "    def input(inlist):\n",
    "        head = ListNode(0)\n",
    "        listNode = head\n",
    "        for num in inlist:\n",
    "            numNode = ListNode(num)\n",
    "            listNode.next = numNode\n",
    "            listNode = numNode\n",
    "        return head.next\n",
    "\n",
    "class Solution(object):\n",
    "    def mergeTwoLists(self, l1, l2):\n",
    "        \"\"\"\n",
    "        :type l1: ListNode\n",
    "        :type l2: ListNode\n",
    "        :rtype: ListNode\n",
    "        \"\"\"\n",
    "        head = ListNode(0)\n",
    "        cursor = head\n",
    "        while l1 and l2:\n",
    "            if l1.val > l2.val:\n",
    "                cursor.next=l2\n",
    "                l2=l2.next\n",
    "            else:\n",
    "                cursor.next=l1\n",
    "                l1=l1.next\n",
    "            cursor = cursor.next\n",
    "        cursor.next = l1 if l1 else l2\n",
    "        return head.next\n",
    "\n",
    "\n",
    "solution = Solution()\n",
    "solution.mergeTwoLists(ListNode.input([1,8]),ListNode.input([0,4,9])).printList()"
   ]
  }
 ],
 "metadata": {
  "kernelspec": {
   "display_name": "Python 3",
   "language": "python",
   "name": "python3"
  },
  "language_info": {
   "codemirror_mode": {
    "name": "ipython",
    "version": 3
   },
   "file_extension": ".py",
   "mimetype": "text/x-python",
   "name": "python",
   "nbconvert_exporter": "python",
   "pygments_lexer": "ipython3",
   "version": "3.4.3"
  },
  "varInspector": {
   "cols": {
    "lenName": 16,
    "lenType": 16,
    "lenVar": 40
   },
   "kernels_config": {
    "python": {
     "delete_cmd_postfix": "",
     "delete_cmd_prefix": "del ",
     "library": "var_list.py",
     "varRefreshCmd": "print(var_dic_list())"
    },
    "r": {
     "delete_cmd_postfix": ") ",
     "delete_cmd_prefix": "rm(",
     "library": "var_list.r",
     "varRefreshCmd": "cat(var_dic_list()) "
    }
   },
   "types_to_exclude": [
    "module",
    "function",
    "builtin_function_or_method",
    "instance",
    "_Feature"
   ],
   "window_display": false
  }
 },
 "nbformat": 4,
 "nbformat_minor": 2
}
