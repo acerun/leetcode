{
 "cells": [
  {
   "cell_type": "markdown",
   "metadata": {},
   "source": [
    "Reverse a linked list from position m to n. Do it in-place and in one-pass.\n",
    "```\n",
    "For example:\n",
    "Given 1->2->3->4->5->NULL, m = 2 and n = 4,\n",
    "return 1->4->3->2->5->NULL.\n",
    "```\n",
    "**Note:**\n",
    "Given m, n satisfy the following condition:\n",
    "1 ? m ? n ? length of list."
   ]
  },
  {
   "cell_type": "code",
   "execution_count": 1,
   "metadata": {},
   "outputs": [
    {
     "name": "stdout",
     "output_type": "stream",
     "text": [
      "4 3 2 1 5 \n"
     ]
    }
   ],
   "source": [
    "# Definition for singly-linked list.\n",
    "class ListNode(object):\n",
    "    def __init__(self, x):\n",
    "        self.val = x\n",
    "        self.next = None\n",
    "    \n",
    "    def listInput(li):\n",
    "        head = ListNode(0)\n",
    "        cur = head\n",
    "        for i in li:\n",
    "            cur.next = ListNode(i)\n",
    "            cur = cur.next\n",
    "        return head.next\n",
    "\n",
    "    def printList(self):\n",
    "        out = \"\"\n",
    "        cur = self\n",
    "        while cur:\n",
    "            out +=str(cur.val)+\" \"\n",
    "            cur = cur.next\n",
    "        print(out)\n",
    "\n",
    "class Solution(object):\n",
    "    def reverseBetween(self, head, m, n):\n",
    "        \"\"\"\n",
    "        :type head: ListNode\n",
    "        :type m: int\n",
    "        :type n: int\n",
    "        :rtype: ListNode\n",
    "        \"\"\"\n",
    "        preHead = ListNode(0)\n",
    "        preHead.next = head\n",
    "        cur = preHead\n",
    "        for i in range(1, m):\n",
    "            cur = cur.next\n",
    "        start = cur\n",
    "        end = cur.next\n",
    "        pre = cur\n",
    "        cur = cur.next\n",
    "        for i in range(m,n+1):\n",
    "            tmp = cur.next\n",
    "            cur.next = pre\n",
    "            pre = cur\n",
    "            cur = tmp\n",
    "        end.next = cur\n",
    "        start.next = pre\n",
    "        return preHead.next\n",
    "        \n",
    "        \n",
    "        \n",
    "s = Solution()\n",
    "l=ListNode.listInput([1,2,3,4,5])\n",
    "s.reverseBetween(l,1,4).printList()"
   ]
  }
 ],
 "metadata": {
  "kernelspec": {
   "display_name": "Python 3",
   "language": "python",
   "name": "python3"
  },
  "language_info": {
   "codemirror_mode": {
    "name": "ipython",
    "version": 3
   },
   "file_extension": ".py",
   "mimetype": "text/x-python",
   "name": "python",
   "nbconvert_exporter": "python",
   "pygments_lexer": "ipython3",
   "version": "3.4.3"
  },
  "varInspector": {
   "cols": {
    "lenName": 16,
    "lenType": 16,
    "lenVar": 40
   },
   "kernels_config": {
    "python": {
     "delete_cmd_postfix": "",
     "delete_cmd_prefix": "del ",
     "library": "var_list.py",
     "varRefreshCmd": "print(var_dic_list())"
    },
    "r": {
     "delete_cmd_postfix": ") ",
     "delete_cmd_prefix": "rm(",
     "library": "var_list.r",
     "varRefreshCmd": "cat(var_dic_list()) "
    }
   },
   "types_to_exclude": [
    "module",
    "function",
    "builtin_function_or_method",
    "instance",
    "_Feature"
   ],
   "window_display": false
  }
 },
 "nbformat": 4,
 "nbformat_minor": 2
}
