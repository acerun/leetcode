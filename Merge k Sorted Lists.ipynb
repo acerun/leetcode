{
 "cells": [
  {
   "cell_type": "markdown",
   "metadata": {},
   "source": [
    "Merge k sorted linked lists and return it as one sorted list. Analyze and describe its complexity."
   ]
  },
  {
   "cell_type": "code",
   "execution_count": 1,
   "metadata": {},
   "outputs": [
    {
     "name": "stdout",
     "output_type": "stream",
     "text": [
      "0\n",
      "1\n",
      "2\n",
      "3\n",
      "8\n"
     ]
    }
   ],
   "source": [
    "# Definition for singly-linked list.\n",
    "class ListNode(object):\n",
    "    def __init__(self, x):\n",
    "         self.val = x\n",
    "         self.next = None\n",
    "\n",
    "    def printList(self):\n",
    "        cursor = self\n",
    "        while cursor != None:\n",
    "            print(cursor.val)\n",
    "            cursor = cursor.next\n",
    "            \n",
    "    def input(inlist):\n",
    "        head = ListNode(0)\n",
    "        listNode = head\n",
    "        for num in inlist:\n",
    "            numNode = ListNode(num)\n",
    "            listNode.next = numNode\n",
    "            listNode = numNode\n",
    "        return head.next\n",
    "\n",
    "#方法一：两两排序\n",
    "class Solution(object):\n",
    "    def mergeKLists(self, lists):\n",
    "        \"\"\"\n",
    "        :type lists: List[ListNode]\n",
    "        :rtype: ListNode\n",
    "        \"\"\"\n",
    "        def merge2Lists(l1, l2):\n",
    "            head = ListNode(0)\n",
    "            cursor = head\n",
    "            while l1 and l2:\n",
    "                if l1.val > l2.val:\n",
    "                    cursor.next=l2\n",
    "                    l2=l2.next\n",
    "                else:\n",
    "                    cursor.next=l1\n",
    "                    l1=l1.next\n",
    "                cursor = cursor.next\n",
    "            cursor.next = l1 if l1 else l2\n",
    "            return head.next\n",
    "\n",
    "        if len(lists)==0:\n",
    "            return\n",
    "        if len(lists)==1:\n",
    "            return lists[0]\n",
    "        while len(lists)>1:\n",
    "            listNode = merge2Lists(lists[0],lists[1])\n",
    "            lists.append(listNode)\n",
    "            lists = lists[2:]\n",
    "            \n",
    "        return lists[0]\n",
    "\n",
    "solution = Solution()\n",
    "solution.mergeKLists([ListNode.input([1,8]),ListNode.input([0]),ListNode.input([2,3])]).printList()"
   ]
  },
  {
   "cell_type": "markdown",
   "metadata": {},
   "source": [
    "方法二：使用PriorityQueue  \n",
    "优先队列，有别于普通队列的先入先出（虽然字面上还是队列，但其实无论从含义还是实现上，和普通队列都有很大的区别），也有别于栈的先入后出。  \n",
    "在实现上，它一般通过堆这一数据结构，而堆其实是一种完全二叉树，它会对进入容器的元素进行排序（根据事先指定的规则），出队的顺序则会是二叉树的根结点代表的元素。"
   ]
  },
  {
   "cell_type": "code",
   "execution_count": 2,
   "metadata": {},
   "outputs": [
    {
     "name": "stdout",
     "output_type": "stream",
     "text": [
      "0\n",
      "1\n",
      "2\n",
      "3\n",
      "8\n"
     ]
    }
   ],
   "source": [
    "from queue import PriorityQueue\n",
    "\n",
    "class Solution(object):\n",
    "    def mergeKLists(self, lists):\n",
    "        \"\"\"\n",
    "        :type lists: List[ListNode]\n",
    "        :rtype: ListNode\n",
    "        \"\"\"\n",
    "        head = ListNode(0)\n",
    "        cur = head\n",
    "        pq=PriorityQueue()\n",
    "        for nodeList in lists:\n",
    "            pq.put((nodeList.val, nodeList))\n",
    "        while pq.qsize():\n",
    "            cur.next = pq.get()[1]\n",
    "            cur=cur.next\n",
    "            if cur.next: pq.put((cur.next.val,cur.next))\n",
    "        return head.next\n",
    "solution = Solution()\n",
    "solution.mergeKLists([ListNode.input([1,8]),ListNode.input([0]),ListNode.input([2,3])]).printList()"
   ]
  }
 ],
 "metadata": {
  "kernelspec": {
   "display_name": "Python 3",
   "language": "python",
   "name": "python3"
  },
  "language_info": {
   "codemirror_mode": {
    "name": "ipython",
    "version": 3
   },
   "file_extension": ".py",
   "mimetype": "text/x-python",
   "name": "python",
   "nbconvert_exporter": "python",
   "pygments_lexer": "ipython3",
   "version": "3.4.3"
  },
  "varInspector": {
   "cols": {
    "lenName": 16,
    "lenType": 16,
    "lenVar": 40
   },
   "kernels_config": {
    "python": {
     "delete_cmd_postfix": "",
     "delete_cmd_prefix": "del ",
     "library": "var_list.py",
     "varRefreshCmd": "print(var_dic_list())"
    },
    "r": {
     "delete_cmd_postfix": ") ",
     "delete_cmd_prefix": "rm(",
     "library": "var_list.r",
     "varRefreshCmd": "cat(var_dic_list()) "
    }
   },
   "types_to_exclude": [
    "module",
    "function",
    "builtin_function_or_method",
    "instance",
    "_Feature"
   ],
   "window_display": false
  }
 },
 "nbformat": 4,
 "nbformat_minor": 2
}
