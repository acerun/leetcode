{
 "cells": [
  {
   "cell_type": "markdown",
   "metadata": {},
   "source": [
    "Given an array S of n integers, are there elements a, b, c in S such that a + b + c = 0? Find all unique triplets in the array which gives the sum of zero.\n",
    "\n",
    "Note: The solution set must not contain duplicate triplets.\n",
    "```\n",
    "For example, given array S = [-1, 0, 1, 2, -1, -4],\n",
    "\n",
    "A solution set is:\n",
    "[\n",
    "  [-1, 0, 1],\n",
    "  [-1, -1, 2]\n",
    "]\n",
    "```"
   ]
  },
  {
   "cell_type": "code",
   "execution_count": 3,
   "metadata": {},
   "outputs": [
    {
     "data": {
      "text/plain": [
       "[[-1, -1, 2], [-1, 0, 1]]"
      ]
     },
     "execution_count": 3,
     "metadata": {},
     "output_type": "execute_result"
    }
   ],
   "source": [
    "class Solution(object):\n",
    "    def threeSum(self, nums):\n",
    "        \"\"\"\n",
    "        :type nums: List[int]\n",
    "        :rtype: List[List[int]]\n",
    "        \"\"\"\n",
    "        nums.sort()\n",
    "        if len(nums)<3:\n",
    "            return []\n",
    "        i = 0\n",
    "        ret=[]\n",
    "        while i<len(nums)-2 and nums[i]<=0:\n",
    "            j, k = i+1,len(nums)-1\n",
    "            while j<k and nums[k]>=0:\n",
    "                if nums[i]+nums[j]+nums[k]==0:\n",
    "                    ret.append([nums[i],nums[j],nums[k]])\n",
    "                    while j+1<len(nums) and nums[j]==nums[j+1]:\n",
    "                        j+=1\n",
    "                    while k>0 and nums[k]==nums[k-1]:\n",
    "                        k-=1\n",
    "                    j,k=j+1,k-1\n",
    "                elif nums[i]+nums[j]+nums[k]<0:\n",
    "                    j+=1\n",
    "                else:\n",
    "                    k-=1\n",
    "            while i+1<len(nums) and nums[i]==nums[i+1]:\n",
    "                i+=1\n",
    "            i+=1\n",
    "        return ret\n",
    "        \n",
    "        \n",
    "solution = Solution()\n",
    "solution.threeSum([-1, 0, 1, 2, -1, -4])\n",
    "solution.threeSum([-1, -2, -4])\n",
    "solution.threeSum([-1,0,1,2,-1,-4])\n",
    "solution.threeSum([0,0,0])\n",
    "solution.threeSum([-2,0,1,1,2])\n",
    "solution.threeSum([-2,0,0,2,2])\n",
    "solution.threeSum([-1,0,1,2,-1,-4])"
   ]
  },
  {
   "cell_type": "markdown",
   "metadata": {
    "collapsed": true
   },
   "source": [
    "注意要跳过相同的结果"
   ]
  },
  {
   "cell_type": "code",
   "execution_count": null,
   "metadata": {
    "collapsed": true
   },
   "outputs": [],
   "source": []
  }
 ],
 "metadata": {
  "kernelspec": {
   "display_name": "Python 3",
   "language": "python",
   "name": "python3"
  },
  "language_info": {
   "codemirror_mode": {
    "name": "ipython",
    "version": 3
   },
   "file_extension": ".py",
   "mimetype": "text/x-python",
   "name": "python",
   "nbconvert_exporter": "python",
   "pygments_lexer": "ipython3",
   "version": "3.4.3"
  },
  "varInspector": {
   "cols": {
    "lenName": 16,
    "lenType": 16,
    "lenVar": 40
   },
   "kernels_config": {
    "python": {
     "delete_cmd_postfix": "",
     "delete_cmd_prefix": "del ",
     "library": "var_list.py",
     "varRefreshCmd": "print(var_dic_list())"
    },
    "r": {
     "delete_cmd_postfix": ") ",
     "delete_cmd_prefix": "rm(",
     "library": "var_list.r",
     "varRefreshCmd": "cat(var_dic_list()) "
    }
   },
   "position": {
    "height": "246px",
    "left": "996px",
    "right": "20px",
    "top": "120px",
    "width": "347px"
   },
   "types_to_exclude": [
    "module",
    "function",
    "builtin_function_or_method",
    "instance",
    "_Feature"
   ],
   "window_display": false
  }
 },
 "nbformat": 4,
 "nbformat_minor": 2
}
