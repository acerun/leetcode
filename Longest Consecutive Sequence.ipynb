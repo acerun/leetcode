{
 "cells": [
  {
   "cell_type": "markdown",
   "metadata": {},
   "source": [
    "Given an unsorted array of integers, find the length of the longest consecutive elements sequence.\n",
    "```\n",
    "For example,\n",
    "Given [100, 4, 200, 1, 3, 2],\n",
    "The longest consecutive elements sequence is [1, 2, 3, 4]. Return its length: 4.\n",
    "```\n",
    "Your algorithm should run in O(n) complexity."
   ]
  },
  {
   "cell_type": "code",
   "execution_count": 1,
   "metadata": {},
   "outputs": [
    {
     "data": {
      "text/plain": [
       "5"
      ]
     },
     "execution_count": 1,
     "metadata": {},
     "output_type": "execute_result"
    }
   ],
   "source": [
    "class Solution(object):\n",
    "    def longestConsecutive(self, nums):\n",
    "        \"\"\"\n",
    "        :type nums: List[int]\n",
    "        :rtype: int\n",
    "        \"\"\"\n",
    "        dic = {}\n",
    "        maxSeq = 0\n",
    "        for i,n in enumerate(nums):\n",
    "            if n not in dic:\n",
    "                left = dic[n-1] if n-1 in dic else 0\n",
    "                right = dic[n+1] if n+1 in dic else 0\n",
    "                dic[n] = left+ right + 1\n",
    "                maxSeq = max(maxSeq, dic[n])\n",
    "                #注意要更新边界\n",
    "                dic[n-left]=dic[n]\n",
    "                dic[n+right]=dic[n]\n",
    "        return maxSeq\n",
    "        \n",
    "s = Solution()\n",
    "s.longestConsecutive([100, 4, 5, 1, 3, 2])"
   ]
  }
 ],
 "metadata": {
  "kernelspec": {
   "display_name": "Python 3",
   "language": "python",
   "name": "python3"
  },
  "language_info": {
   "codemirror_mode": {
    "name": "ipython",
    "version": 3
   },
   "file_extension": ".py",
   "mimetype": "text/x-python",
   "name": "python",
   "nbconvert_exporter": "python",
   "pygments_lexer": "ipython3",
   "version": "3.4.5"
  }
 },
 "nbformat": 4,
 "nbformat_minor": 2
}
