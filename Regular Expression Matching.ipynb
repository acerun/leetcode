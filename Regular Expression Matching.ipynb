{
 "cells": [
  {
   "cell_type": "markdown",
   "metadata": {},
   "source": [
    "'.' Matches any single character.  \n",
    "'*' Matches zero or more of the preceding element.  \n",
    "\n",
    "The matching should cover the entire input string (not partial).  \n",
    "\n",
    "The function prototype should be:  \n",
    ">bool isMatch(const char *s, const char *p)\n",
    "\n",
    "```\n",
    "Some examples:\n",
    "isMatch(\"aa\",\"a\") → false\n",
    "isMatch(\"aa\",\"aa\") → true\n",
    "isMatch(\"aaa\",\"aa\") → false\n",
    "isMatch(\"aa\", \"a*\") → true\n",
    "isMatch(\"aa\", \".*\") → true\n",
    "isMatch(\"ab\", \".*\") → true\n",
    "isMatch(\"aab\", \"c*a*b\") → true\n",
    "```"
   ]
  },
  {
   "cell_type": "code",
   "execution_count": null,
   "metadata": {
    "collapsed": true
   },
   "outputs": [],
   "source": [
    "class Solution(object):\n",
    "    def isMatch(self, s, p):\n",
    "        \"\"\"\n",
    "        :type s: str\n",
    "        :type p: str\n",
    "        :rtype: bool\n",
    "        \"\"\"\n",
    "\n",
    "        for i in s:\n",
    "            for j in p:\n",
    "                \n",
    "            \n",
    "        \n",
    "solution = Solution()\n",
    "solution.isMatch(\"aab\", \"c*a*b\")"
   ]
  }
 ],
 "metadata": {
  "kernelspec": {
   "display_name": "Python 3",
   "language": "python",
   "name": "python3"
  },
  "language_info": {
   "codemirror_mode": {
    "name": "ipython",
    "version": 3
   },
   "file_extension": ".py",
   "mimetype": "text/x-python",
   "name": "python",
   "nbconvert_exporter": "python",
   "pygments_lexer": "ipython3",
   "version": "3.4.3"
  },
  "varInspector": {
   "cols": {
    "lenName": 16,
    "lenType": 16,
    "lenVar": 40
   },
   "kernels_config": {
    "python": {
     "delete_cmd_postfix": "",
     "delete_cmd_prefix": "del ",
     "library": "var_list.py",
     "varRefreshCmd": "print(var_dic_list())"
    },
    "r": {
     "delete_cmd_postfix": ") ",
     "delete_cmd_prefix": "rm(",
     "library": "var_list.r",
     "varRefreshCmd": "cat(var_dic_list()) "
    }
   },
   "types_to_exclude": [
    "module",
    "function",
    "builtin_function_or_method",
    "instance",
    "_Feature"
   ],
   "window_display": false
  }
 },
 "nbformat": 4,
 "nbformat_minor": 2
}
