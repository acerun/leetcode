{
 "cells": [
  {
   "cell_type": "markdown",
   "metadata": {},
   "source": [
    "Given a 2D board and a word, find if the word exists in the grid.\n",
    "\n",
    "The word can be constructed from letters of sequentially adjacent cell, where \"adjacent\" cells are those horizontally or vertically neighboring. The same letter cell may not be used more than once.\n",
    "```python\n",
    "For example,\n",
    "Given board =\n",
    "\n",
    "[\n",
    "  ['A','B','C','E'],\n",
    "  ['S','F','C','S'],\n",
    "  ['A','D','E','E']\n",
    "]\n",
    "word = \"ABCCED\", -> returns true,\n",
    "word = \"SEE\", -> returns true,\n",
    "word = \"ABCB\", -> returns false.\n",
    "```"
   ]
  },
  {
   "cell_type": "code",
   "execution_count": 1,
   "metadata": {},
   "outputs": [
    {
     "data": {
      "text/plain": [
       "True"
      ]
     },
     "execution_count": 1,
     "metadata": {},
     "output_type": "execute_result"
    }
   ],
   "source": [
    "class Solution(object):\n",
    "    def dfs(self,board, i, j, word):\n",
    "        if not len(word):return True\n",
    "        if i<0 or i>=len(board) or j<0 or j>=len(board[0]):\n",
    "            return False\n",
    "        if board[i][j]!=word[0]:\n",
    "            return False\n",
    "        else:\n",
    "            tmp,board[i][j]=board[i][j],\"-1\"\n",
    "            ret= self.dfs(board,i-1,j,word[1:]) or self.dfs(board,i+1,j,word[1:]) \\\n",
    "                 or self.dfs(board,i,j-1,word[1:]) or self.dfs(board,i,j+1,word[1:])\n",
    "            board[i][j]=tmp\n",
    "            return ret\n",
    "    def exist(self, board, word):\n",
    "        \"\"\"\n",
    "        :type board: List[List[str]]\n",
    "        :type word: str\n",
    "        :rtype: bool\n",
    "        \"\"\"\n",
    "        for i in range(len(board)):\n",
    "            for j in range(len(board[i])):\n",
    "                if self.dfs(board,i,j,word):\n",
    "                    return True\n",
    "        return False\n",
    "            \n",
    "board =[['C','A','A'],['A','A','A'],['B','C','D']]\n",
    "s = Solution()\n",
    "s.exist(board,\"AAB\")"
   ]
  }
 ],
 "metadata": {
  "kernelspec": {
   "display_name": "Python 3",
   "language": "python",
   "name": "python3"
  },
  "language_info": {
   "codemirror_mode": {
    "name": "ipython",
    "version": 3
   },
   "file_extension": ".py",
   "mimetype": "text/x-python",
   "name": "python",
   "nbconvert_exporter": "python",
   "pygments_lexer": "ipython3",
   "version": "3.4.3"
  },
  "varInspector": {
   "cols": {
    "lenName": 16,
    "lenType": 16,
    "lenVar": 40
   },
   "kernels_config": {
    "python": {
     "delete_cmd_postfix": "",
     "delete_cmd_prefix": "del ",
     "library": "var_list.py",
     "varRefreshCmd": "print(var_dic_list())"
    },
    "r": {
     "delete_cmd_postfix": ") ",
     "delete_cmd_prefix": "rm(",
     "library": "var_list.r",
     "varRefreshCmd": "cat(var_dic_list()) "
    }
   },
   "types_to_exclude": [
    "module",
    "function",
    "builtin_function_or_method",
    "instance",
    "_Feature"
   ],
   "window_display": false
  }
 },
 "nbformat": 4,
 "nbformat_minor": 2
}
