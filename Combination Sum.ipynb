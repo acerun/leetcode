{
 "cells": [
  {
   "cell_type": "markdown",
   "metadata": {},
   "source": [
    "Given a set of candidate numbers (C) **(without duplicates)** and a target number (T),   \n",
    "find all unique combinations in C where the candidate numbers sums to T.  \n",
    "\n",
    "The same repeated number may be chosen from C unlimited number of times.  \n",
    "\n",
    "**Note:**\n",
    "All numbers (including target) will be positive integers.  \n",
    "The solution set must not contain duplicate combinations.\n",
    "```\n",
    "For example, given candidate set [2, 3, 6, 7] and target 7, \n",
    "A solution set is: \n",
    "[\n",
    "  [7],\n",
    "  [2, 2, 3]\n",
    "]\n",
    "```"
   ]
  },
  {
   "cell_type": "code",
   "execution_count": 1,
   "metadata": {},
   "outputs": [
    {
     "data": {
      "text/plain": [
       "[[2, 2, 3], [7]]"
      ]
     },
     "execution_count": 1,
     "metadata": {},
     "output_type": "execute_result"
    }
   ],
   "source": [
    "#DFS Recursive\n",
    "class Solution(object):\n",
    "    def combinationSum(self, candidates, target):\n",
    "        \"\"\"\n",
    "        :type candidates: List[int]\n",
    "        :type target: int\n",
    "        :rtype: List[List[int]]\n",
    "        \"\"\"\n",
    "        def getList(nums, target, ret, curList,index):\n",
    "            if target==0:\n",
    "                ret.append(curList)\n",
    "                return\n",
    "            elif target<0:\n",
    "                return\n",
    "            else:\n",
    "                for i in range(index,len(nums)):\n",
    "                    getList(nums,target-nums[i],ret,curList+[nums[i]],i)\n",
    "                    \n",
    "        candidates.sort()\n",
    "        ret=[]\n",
    "        getList(candidates,target,ret,[],0)\n",
    "        return ret\n",
    " \n",
    "        \n",
    "solution = Solution()\n",
    "solution.combinationSum([2, 3, 6, 7],7)"
   ]
  },
  {
   "cell_type": "code",
   "execution_count": 2,
   "metadata": {},
   "outputs": [
    {
     "data": {
      "text/plain": [
       "[[2, 2, 3], [7]]"
      ]
     },
     "execution_count": 2,
     "metadata": {},
     "output_type": "execute_result"
    }
   ],
   "source": [
    "#DP\n",
    "class Solution(object):\n",
    "    def combinationSum(self, candidates, target):\n",
    "        \"\"\"\n",
    "        :type candidates: List[int]\n",
    "        :type target: int\n",
    "        :rtype: List[List[int]]\n",
    "        \"\"\"\n",
    "        candidates.sort()\n",
    "        ret=[]\n",
    "        for i in range(target+1):\n",
    "            subRet=[]\n",
    "            for num in candidates:\n",
    "                if i==num: subRet.append([num])\n",
    "                if i>num:\n",
    "                    for j in ret[i-num]:\n",
    "                        if j[-1]<= num: subRet.append(j+[num])\n",
    "            ret.append(subRet)\n",
    "        return ret[target]\n",
    "        \n",
    "solution = Solution()\n",
    "solution.combinationSum([2, 3, 6, 7],7)"
   ]
  }
 ],
 "metadata": {
  "kernelspec": {
   "display_name": "Python 3",
   "language": "python",
   "name": "python3"
  },
  "language_info": {
   "codemirror_mode": {
    "name": "ipython",
    "version": 3
   },
   "file_extension": ".py",
   "mimetype": "text/x-python",
   "name": "python",
   "nbconvert_exporter": "python",
   "pygments_lexer": "ipython3",
   "version": "3.4.3"
  },
  "varInspector": {
   "cols": {
    "lenName": 16,
    "lenType": 16,
    "lenVar": 40
   },
   "kernels_config": {
    "python": {
     "delete_cmd_postfix": "",
     "delete_cmd_prefix": "del ",
     "library": "var_list.py",
     "varRefreshCmd": "print(var_dic_list())"
    },
    "r": {
     "delete_cmd_postfix": ") ",
     "delete_cmd_prefix": "rm(",
     "library": "var_list.r",
     "varRefreshCmd": "cat(var_dic_list()) "
    }
   },
   "types_to_exclude": [
    "module",
    "function",
    "builtin_function_or_method",
    "instance",
    "_Feature"
   ],
   "window_display": false
  }
 },
 "nbformat": 4,
 "nbformat_minor": 2
}
