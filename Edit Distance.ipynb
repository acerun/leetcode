{
 "cells": [
  {
   "cell_type": "markdown",
   "metadata": {},
   "source": [
    "Given two words word1 and word2, find the minimum number of steps required to convert word1 to word2. (each operation is counted as 1 step.)\n",
    "\n",
    "You have the following 3 operations permitted on a word:\n",
    "1. Insert a character\n",
    "2. Delete a character\n",
    "3. Replace a character"
   ]
  },
  {
   "cell_type": "code",
   "execution_count": 1,
   "metadata": {},
   "outputs": [
    {
     "data": {
      "text/plain": [
       "3"
      ]
     },
     "execution_count": 1,
     "metadata": {},
     "output_type": "execute_result"
    }
   ],
   "source": [
    "class Solution(object):\n",
    "    def minDistance(self, word1, word2):\n",
    "        \"\"\"\n",
    "        :type word1: str\n",
    "        :type word2: str\n",
    "        :rtype: int\n",
    "        \"\"\"\n",
    "        dp = [([0]*(len(word2)+1)) for i in range(len(word1)+1)]\n",
    "        for i in range(len(word1)+1):\n",
    "            for j in range(len(word2)+1):\n",
    "                if i==0: dp[i][j] = j\n",
    "                elif j==0: dp[i][j] = i\n",
    "                else:\n",
    "                    if word1[i-1] == word2[j-1]: dp[i][j]=dp[i-1][j-1]\n",
    "                    else:\n",
    "                        dp[i][j]=1+min(dp[i-1][j],dp[i][j-1],dp[i-1][j-1])\n",
    "        return dp[-1][-1]\n",
    "        \n",
    "s = Solution()\n",
    "s.minDistance(\"ab\",\"acbcd\")"
   ]
  },
  {
   "cell_type": "markdown",
   "metadata": {},
   "source": [
    "f(i, j) := word1的前i个字母要转化为word2的前j个字母所需要的最小代价\n",
    "\n",
    "Case 1: word1[i] == word2[j]  \n",
    "f(i, j) = f(i - 1, j - 1)\n",
    "\n",
    "Case 2: word1[i] != word2[j]  \n",
    "f(i, j) = 1 + min { f(i, j - 1), f(i - 1, j), f(i - 1, j - 1) }\n",
    "1. f(i, j - 1) 表示插入操作\n",
    "2. f(i - 1, j) 删除\n",
    "3. f(i - 1, j - 1) 替换"
   ]
  }
 ],
 "metadata": {
  "kernelspec": {
   "display_name": "Python 3",
   "language": "python",
   "name": "python3"
  },
  "language_info": {
   "codemirror_mode": {
    "name": "ipython",
    "version": 3
   },
   "file_extension": ".py",
   "mimetype": "text/x-python",
   "name": "python",
   "nbconvert_exporter": "python",
   "pygments_lexer": "ipython3",
   "version": "3.4.3"
  },
  "varInspector": {
   "cols": {
    "lenName": 16,
    "lenType": 16,
    "lenVar": 40
   },
   "kernels_config": {
    "python": {
     "delete_cmd_postfix": "",
     "delete_cmd_prefix": "del ",
     "library": "var_list.py",
     "varRefreshCmd": "print(var_dic_list())"
    },
    "r": {
     "delete_cmd_postfix": ") ",
     "delete_cmd_prefix": "rm(",
     "library": "var_list.r",
     "varRefreshCmd": "cat(var_dic_list()) "
    }
   },
   "types_to_exclude": [
    "module",
    "function",
    "builtin_function_or_method",
    "instance",
    "_Feature"
   ],
   "window_display": false
  }
 },
 "nbformat": 4,
 "nbformat_minor": 2
}
