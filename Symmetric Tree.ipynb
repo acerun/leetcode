{
 "cells": [
  {
   "cell_type": "markdown",
   "metadata": {},
   "source": [
    "Given a binary tree, check whether it is a mirror of itself (ie, symmetric around its center).\n",
    "```\n",
    "For example, this binary tree [1,2,2,3,4,4,3] is symmetric:\n",
    "\n",
    "    1\n",
    "   / \\\n",
    "  2   2\n",
    " / \\ / \\\n",
    "3  4 4  3\n",
    "But the following [1,2,2,null,3,null,3] is not:\n",
    "    1\n",
    "   / \\\n",
    "  2   2\n",
    "   \\   \\\n",
    "   3    3\n",
    " ```"
   ]
  },
  {
   "cell_type": "code",
   "execution_count": 16,
   "metadata": {},
   "outputs": [
    {
     "data": {
      "text/plain": [
       "False"
      ]
     },
     "execution_count": 16,
     "metadata": {},
     "output_type": "execute_result"
    }
   ],
   "source": [
    "# Definition for a binary tree node.\n",
    "class TreeNode(object):\n",
    "    def __init__(self, x):\n",
    "        self.val = x\n",
    "        self.left = None\n",
    "        self.right = None\n",
    "\n",
    "    def inputList(l):\n",
    "        head=TreeNode(l[0])\n",
    "        s = [head]\n",
    "        b=l[1:]\n",
    "        for i, v in enumerate(b):\n",
    "            if i%2:\n",
    "                t = s.pop(0)\n",
    "                if v!=None:\n",
    "                    t.right = TreeNode(v)\n",
    "                    s.append(t.right)\n",
    "            else:\n",
    "                t=s[0]\n",
    "                if v!=None:\n",
    "                    t.left = TreeNode(v)\n",
    "                    s.append(t.left)\n",
    "        return head\n",
    "\n",
    "class Solution(object):\n",
    "    def isSymmetric(self, root):\n",
    "        \"\"\"\n",
    "        :type root: TreeNode\n",
    "        :rtype: bool\n",
    "        \"\"\"\n",
    "        if not root:\n",
    "            return True\n",
    "        left,right = [root.left],[root.right]\n",
    "        while len(left) and len(right):\n",
    "            l=left.pop()\n",
    "            r=right.pop()\n",
    "            if l==r==None:\n",
    "                continue\n",
    "            if not l or not r or l.val!=r.val:\n",
    "                return False\n",
    "            left.append(l.left)\n",
    "            left.append(l.right)\n",
    "            right.append(r.right)\n",
    "            right.append(r.left)\n",
    "        if len(left) or len(right):\n",
    "            return False\n",
    "        return True\n",
    "    \n",
    "s = Solution()\n",
    "s.isSymmetric(TreeNode.inputList([1,2,2,None,3,None,3]))\n",
    "#s.isSymmetric(TreeNode.inputList([1,2,2,3,4,4,3]))"
   ]
  },
  {
   "cell_type": "code",
   "execution_count": null,
   "metadata": {
    "collapsed": true
   },
   "outputs": [],
   "source": []
  }
 ],
 "metadata": {
  "kernelspec": {
   "display_name": "Python 3",
   "language": "python",
   "name": "python3"
  },
  "language_info": {
   "codemirror_mode": {
    "name": "ipython",
    "version": 3
   },
   "file_extension": ".py",
   "mimetype": "text/x-python",
   "name": "python",
   "nbconvert_exporter": "python",
   "pygments_lexer": "ipython3",
   "version": "3.4.3"
  },
  "varInspector": {
   "cols": {
    "lenName": 16,
    "lenType": 16,
    "lenVar": 40
   },
   "kernels_config": {
    "python": {
     "delete_cmd_postfix": "",
     "delete_cmd_prefix": "del ",
     "library": "var_list.py",
     "varRefreshCmd": "print(var_dic_list())"
    },
    "r": {
     "delete_cmd_postfix": ") ",
     "delete_cmd_prefix": "rm(",
     "library": "var_list.r",
     "varRefreshCmd": "cat(var_dic_list()) "
    }
   },
   "types_to_exclude": [
    "module",
    "function",
    "builtin_function_or_method",
    "instance",
    "_Feature"
   ],
   "window_display": false
  }
 },
 "nbformat": 4,
 "nbformat_minor": 2
}
