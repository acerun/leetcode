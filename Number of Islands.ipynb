{
 "cells": [
  {
   "cell_type": "markdown",
   "metadata": {},
   "source": [
    "Given a 2d grid map of '1's (land) and '0's (water), count the number of islands.  \n",
    "An island is surrounded by water and is formed by connecting adjacent lands horizontally or vertically.  \n",
    "You may assume all four edges of the grid are all surrounded by water.\n",
    "```\n",
    "Example 1:\n",
    "\n",
    "11110\n",
    "11010\n",
    "11000\n",
    "00000\n",
    "Answer: 1\n",
    "\n",
    "Example 2:\n",
    "\n",
    "11000\n",
    "11000\n",
    "00100\n",
    "00011\n",
    "Answer: 3\n",
    "```"
   ]
  },
  {
   "cell_type": "code",
   "execution_count": 2,
   "metadata": {},
   "outputs": [
    {
     "data": {
      "text/plain": [
       "3"
      ]
     },
     "execution_count": 2,
     "metadata": {},
     "output_type": "execute_result"
    }
   ],
   "source": [
    "class Solution(object):\n",
    "    def numIslands(self, grid):\n",
    "        \"\"\"\n",
    "        :type grid: List[List[str]]\n",
    "        :rtype: int\n",
    "        \"\"\"\n",
    "        notMark = [[True]*len(grid[0]) for i in range(len(grid))]\n",
    "        count = 0\n",
    "        def dfs(i,j):\n",
    "            if 0<=i<len(grid) and 0<=j<len(grid[i]) and grid[i][j]=='1' and notMark[i][j]:\n",
    "                notMark[i][j] = False\n",
    "                dfs(i-1,j)\n",
    "                dfs(i,j-1)\n",
    "                dfs(i+1,j)\n",
    "                dfs(i,j+1)\n",
    "        \n",
    "        for i in range(len(grid)):\n",
    "            for j in range(len(grid[i])):\n",
    "                if grid[i][j]=='1' and notMark[i][j]:\n",
    "                    dfs(i,j)\n",
    "                    count+=1\n",
    "        return count\n",
    "s = Solution()\n",
    "s.numIslands([\"11000\",\"11000\",\"00100\",\"00011\"])"
   ]
  }
 ],
 "metadata": {
  "kernelspec": {
   "display_name": "Python 3",
   "language": "python",
   "name": "python3"
  },
  "language_info": {
   "codemirror_mode": {
    "name": "ipython",
    "version": 3
   },
   "file_extension": ".py",
   "mimetype": "text/x-python",
   "name": "python",
   "nbconvert_exporter": "python",
   "pygments_lexer": "ipython3",
   "version": "3.4.5"
  }
 },
 "nbformat": 4,
 "nbformat_minor": 2
}
