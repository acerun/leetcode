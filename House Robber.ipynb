{
 "cells": [
  {
   "cell_type": "markdown",
   "metadata": {},
   "source": [
    "You are a professional robber planning to rob houses along a street.   \n",
    "Each house has a certain amount of money stashed, the only constraint stopping you from robbing each of them is that adjacent houses have security system connected and it will automatically contact the police if two adjacent houses were broken into on the same night.\n",
    "\n",
    "Given a list of non-negative integers representing the amount of money of each house,   \n",
    "determine the maximum amount of money you can rob tonight without alerting the police.  \n",
    "```\n",
    "eg:\n",
    "[3,1,4,9,2,1]\n",
    "3+9+1 = 13\n",
    "```"
   ]
  },
  {
   "cell_type": "code",
   "execution_count": null,
   "metadata": {
    "collapsed": true
   },
   "outputs": [],
   "source": [
    "#DP\n",
    "class Solution(object):\n",
    "    def rob(self, nums):\n",
    "        \"\"\"\n",
    "        :type nums: List[int]\n",
    "        :rtype: int\n",
    "        \"\"\"\n",
    "        ret=[0,0,0]\n",
    "        n = ret+nums\n",
    "        for i in range(3,len(n)):\n",
    "            ret.append(max(ret[i-2],ret[i-3])+n[i])\n",
    "        print ret\n",
    "        return max(ret[-1],ret[-2])"
   ]
  }
 ],
 "metadata": {
  "kernelspec": {
   "display_name": "Python 3",
   "language": "python",
   "name": "python3"
  }
 },
 "nbformat": 4,
 "nbformat_minor": 2
}
