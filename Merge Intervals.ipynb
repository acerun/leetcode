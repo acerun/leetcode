{
 "cells": [
  {
   "cell_type": "markdown",
   "metadata": {},
   "source": [
    "Given a collection of intervals, merge all overlapping intervals.\n",
    "```\n",
    "For example,\n",
    "Given [1,3],[2,6],[8,10],[15,18],\n",
    "return [1,6],[8,10],[15,18].\n",
    "```\n",
    "合并间隔"
   ]
  },
  {
   "cell_type": "code",
<<<<<<< Updated upstream
   "execution_count": 4,
=======
   "execution_count": 1,
>>>>>>> Stashed changes
   "metadata": {},
   "outputs": [
    {
     "name": "stdout",
     "output_type": "stream",
     "text": [
      "[1, 6]\n",
      "[8, 10]\n",
      "[15, 18]\n"
     ]
<<<<<<< Updated upstream
    },
    {
     "data": {
      "text/plain": [
       "[[1, 6], [8, 10], [15, 18]]"
      ]
     },
     "execution_count": 4,
     "metadata": {},
     "output_type": "execute_result"
=======
>>>>>>> Stashed changes
    }
   ],
   "source": [
    "# Definition for an interval.\n",
    "class Interval(object):\n",
    "    def __init__(self, s=0, e=0):\n",
    "        self.start = s\n",
    "        self.end = e\n",
    "        \n",
    "    def list2Intervals(li):\n",
    "        ret = []\n",
    "        for i in li:\n",
    "            ret.append(Interval(i[0],i[1]))\n",
    "        return ret\n",
    "    def printList(li):\n",
    "        for i in li:\n",
    "            print(\"[\"+str(i.start)+\", \"+str(i.end)+\"]\")\n",
    "\n",
    "class Solution(object):\n",
    "    def merge(self, intervals):\n",
    "        \"\"\"\n",
    "        :type intervals: List[Interval]\n",
    "        :rtype: List[Interval]\n",
    "        \"\"\"\n",
    "        intervals.sort(key=lambda x: x.start)\n",
    "        i = 0\n",
    "        while i+1<len(intervals):\n",
    "            if intervals[i].end>=intervals[i+1].start:\n",
    "                intervals[i].end = max(intervals[i].end, intervals[i+1].end)\n",
    "                intervals.pop(i+1)\n",
    "            else:\n",
    "                i+=1\n",
    "        return intervals\n",
    "            \n",
    "s = Solution()\n",
    "r = s.merge(Interval.list2Intervals([[1,3],[2,6],[8,10],[15,18]]))\n",
    "Interval.printList(r)"
   ]
  }
 ],
 "metadata": {
  "kernelspec": {
   "display_name": "Python 3",
   "language": "python",
   "name": "python3"
  },
  "language_info": {
   "codemirror_mode": {
    "name": "ipython",
    "version": 3
   },
   "file_extension": ".py",
   "mimetype": "text/x-python",
   "name": "python",
   "nbconvert_exporter": "python",
   "pygments_lexer": "ipython3",
   "version": "3.4.3"
  },
  "varInspector": {
   "cols": {
    "lenName": 16,
    "lenType": 16,
    "lenVar": 40
   },
   "kernels_config": {
    "python": {
     "delete_cmd_postfix": "",
     "delete_cmd_prefix": "del ",
     "library": "var_list.py",
     "varRefreshCmd": "print(var_dic_list())"
    },
    "r": {
     "delete_cmd_postfix": ") ",
     "delete_cmd_prefix": "rm(",
     "library": "var_list.r",
     "varRefreshCmd": "cat(var_dic_list()) "
    }
   },
   "types_to_exclude": [
    "module",
    "function",
    "builtin_function_or_method",
    "instance",
    "_Feature"
   ],
   "window_display": false
  }
 },
 "nbformat": 4,
 "nbformat_minor": 2
}
