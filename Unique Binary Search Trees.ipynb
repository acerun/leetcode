{
 "cells": [
  {
   "cell_type": "markdown",
   "metadata": {},
   "source": [
    "Given n, how many structurally unique BST's (binary search trees) that store values 1...n?\n",
    "```\n",
    "For example,\n",
    "Given n = 3, there are a total of 5 unique BST's.\n",
    "\n",
    "   1         3     3      2      1\n",
    "    \\       /     /      / \\      \\\n",
    "     3     2     1      1   3      2\n",
    "    /     /       \\                 \\\n",
    "   2     1         2                 3\n",
    "```"
   ]
  },
  {
   "cell_type": "code",
   "execution_count": 1,
   "metadata": {},
   "outputs": [
    {
     "data": {
      "text/plain": [
       "5"
      ]
     },
     "execution_count": 1,
     "metadata": {},
     "output_type": "execute_result"
    }
   ],
   "source": [
    "\"\"\"\n",
    " * Taking 1~n as root respectively:\n",
    " *      1 as root: # of trees = F(0) * F(n-1)  // F(0) == 1\n",
    " *      2 as root: # of trees = F(1) * F(n-2) \n",
    " *      3 as root: # of trees = F(2) * F(n-3)\n",
    " *      ...\n",
    " *      n-1 as root: # of trees = F(n-2) * F(1)\n",
    " *      n as root:   # of trees = F(n-1) * F(0)\n",
    " *\n",
    " * So, the formulation is:\n",
    " *      F(n) = F(0) * F(n-1) + F(1) * F(n-2) + F(2) * F(n-3) + ... + F(n-2) * F(1) + F(n-1) * F(0)\n",
    "\"\"\"\n",
    "class Solution(object):\n",
    "    def numTrees(self, n):\n",
    "        \"\"\"\n",
    "        :type n: int\n",
    "        :rtype: int\n",
    "        \"\"\"\n",
    "        dp=[1]\n",
    "        for i in range(1,n+1):\n",
    "            f = 0\n",
    "            for j in range(i):\n",
    "                f += dp[j]*dp[i-1-j]\n",
    "            dp.append(f)\n",
    "        return dp[-1]\n",
    "\n",
    "s = Solution()\n",
    "s.numTrees(3)"
   ]
  }
 ],
 "metadata": {
  "kernelspec": {
   "display_name": "Python 3",
   "language": "python",
   "name": "python3"
  },
  "language_info": {
   "codemirror_mode": {
    "name": "ipython",
    "version": 3
   },
   "file_extension": ".py",
   "mimetype": "text/x-python",
   "name": "python",
   "nbconvert_exporter": "python",
   "pygments_lexer": "ipython3",
   "version": "3.4.3"
  },
  "varInspector": {
   "cols": {
    "lenName": 16,
    "lenType": 16,
    "lenVar": 40
   },
   "kernels_config": {
    "python": {
     "delete_cmd_postfix": "",
     "delete_cmd_prefix": "del ",
     "library": "var_list.py",
     "varRefreshCmd": "print(var_dic_list())"
    },
    "r": {
     "delete_cmd_postfix": ") ",
     "delete_cmd_prefix": "rm(",
     "library": "var_list.r",
     "varRefreshCmd": "cat(var_dic_list()) "
    }
   },
   "types_to_exclude": [
    "module",
    "function",
    "builtin_function_or_method",
    "instance",
    "_Feature"
   ],
   "window_display": false
  }
 },
 "nbformat": 4,
 "nbformat_minor": 2
}
