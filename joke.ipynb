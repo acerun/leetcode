{
 "cells": [
  {
   "cell_type": "code",
   "execution_count": 10,
   "metadata": {},
   "outputs": [
    {
     "name": "stdout",
     "output_type": "stream",
     "text": [
      "1\n",
      "1\n",
      "1\n",
      "1\n",
      "1\n",
      "1\n",
      "1\n",
      "1\n"
     ]
    },
    {
     "data": {
      "text/plain": [
       "8"
      ]
     },
     "execution_count": 10,
     "metadata": {},
     "output_type": "execute_result"
    }
   ],
   "source": [
    "total = 0\n",
    "def findPaths(board,i,j,target,ttl): \n",
    "    def dfs(board,i,j,t,ttl):\n",
    "        global total\n",
    "        if i<0 or i>len(board)-1 or j<0 or j>len(board)-1 \\\n",
    "            or board[i][j]<=0 or t<0:\n",
    "            return\n",
    "        t-=board[i][j]\n",
    "        if t==0 and ttl==1:\n",
    "            total+=1\n",
    "            return\n",
    "        tmp,board[i][j] = board[i][j],-1\n",
    "        ttl-=1\n",
    "        dfs(board,i-1,j,t,ttl)\n",
    "        dfs(board,i+1,j,t,ttl)\n",
    "        dfs(board,i,j-1,t,ttl)\n",
    "        dfs(board,i,j+1,t,ttl)\n",
    "        board[i][j]=tmp\n",
    "\n",
    "    path=[]\n",
    "    dfs(board,i,j,target,ttl)\n",
    "    return total\n",
    "\n",
    "board=[\n",
    "    [0,0,0,4,0,0,0],\n",
    "    [0,0,1,3,1,0,0],\n",
    "    [0,1,1,2,3,4,0],\n",
    "    [4,3,2,1,2,3,4],\n",
    "    [0,3,2,2,1,3,0],\n",
    "    [0,0,1,3,2,0,0], \n",
    "    [0,0,0,4,0,0,0],\n",
    "]\n",
    "findPaths(board,3,3,6,4)"
   ]
  },
  {
   "cell_type": "code",
   "execution_count": null,
   "metadata": {
    "collapsed": true
   },
   "outputs": [],
   "source": []
  }
 ],
 "metadata": {
  "kernelspec": {
   "display_name": "Python 3",
   "language": "python",
   "name": "python3"
  },
  "language_info": {
   "codemirror_mode": {
    "name": "ipython",
    "version": 3
   },
   "file_extension": ".py",
   "mimetype": "text/x-python",
   "name": "python",
   "nbconvert_exporter": "python",
   "pygments_lexer": "ipython3",
   "version": "3.4.5"
  }
 },
 "nbformat": 4,
 "nbformat_minor": 2
}
